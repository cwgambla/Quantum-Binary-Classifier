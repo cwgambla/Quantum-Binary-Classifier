{
 "cells": [
  {
   "cell_type": "code",
   "execution_count": 1,
   "id": "c1b923b3-9876-40e6-ace2-c0e469fe0833",
   "metadata": {},
   "outputs": [],
   "source": [
    "import pennylane as qml\n",
    "import numpy as np\n",
    "from sklearn.datasets import make_moons\n",
    "from sklearn.model_selection import train_test_split\n",
    "from sklearn.preprocessing import StandardScaler\n",
    "from sklearn.metrics import accuracy_score\n",
    "from sklearn.metrics import log_loss"
   ]
  },
  {
   "cell_type": "code",
   "execution_count": 2,
   "id": "77742c8a-68f3-4cec-91a7-d1d4a05fb8c1",
   "metadata": {},
   "outputs": [
    {
     "name": "stdout",
     "output_type": "stream",
     "text": [
      "(800,)\n"
     ]
    }
   ],
   "source": [
    "# Create a toy dataset\n",
    "X, y = make_moons(n_samples=1000, noise=0.1, random_state=42)\n",
    "X_train, X_test, y_train, y_test = train_test_split(X, y, test_size=0.2, random_state=42)\n",
    "# Standardize the data\n",
    "print(y_train.shape)\n",
    "scaler = StandardScaler()\n",
    "X_train = scaler.fit_transform(X_train)\n",
    "X_test = scaler.transform(X_test)"
   ]
  },
  {
   "cell_type": "code",
   "execution_count": 3,
   "id": "f7e6ca12-d6a4-4d92-b46e-bdc19e292e20",
   "metadata": {},
   "outputs": [
    {
     "name": "stdout",
     "output_type": "stream",
     "text": [
      "[[ 1.76755973  0.05440598]\n",
      " [-1.76617114  0.31537521]\n",
      " [-0.72279926  1.65748645]\n",
      " ...\n",
      " [-1.46428304  0.67329721]\n",
      " [ 0.66197793 -0.22513462]\n",
      " [ 1.64081996 -0.23154454]]\n"
     ]
    }
   ],
   "source": [
    "print(X_train)"
   ]
  },
  {
   "cell_type": "code",
   "execution_count": 4,
   "id": "c7c0a326-25f7-49fc-8d9f-6c6a0060554c",
   "metadata": {},
   "outputs": [],
   "source": [
    "n_qubits = 2  # Number of qubits\n",
    "dev = qml.device(\"default.qubit\", wires=n_qubits)\n",
    "\n",
    "@qml.qnode(dev)\n",
    "def circuit(x, weights):\n",
    "    # Angle embedding\n",
    "    qml.templates.AngleEmbedding(x, wires=range(n_qubits))\n",
    "\n",
    "    # Basic entangler layers\n",
    "    qml.templates.StronglyEntanglingLayers(weights, wires=range(n_qubits))\n",
    "    \n",
    "    # Measurement\n",
    "    return qml.expval(qml.PauliZ(0))\n"
   ]
  },
  {
   "cell_type": "code",
   "execution_count": 11,
   "id": "42d39df0-9bf2-4fd8-b4a3-e96fdbbb09da",
   "metadata": {},
   "outputs": [],
   "source": [
    "def cost(weights, X, y):\n",
    "    # Combine X and y into a single array for easier processing\n",
    "    combined = np.column_stack((X, y))\n",
    "    \n",
    "    # Use NumPy's vectorized operations\n",
    "    predictions = circuit(combined[:, :-1], weights)\n",
    "    predictions = (predictions + 1) / 2\n",
    "    \n",
    "    # Clip predictions to avoid log(0)\n",
    "    epsilon = 1e-12\n",
    "    predictions = np.clip(predictions, epsilon, 1 - epsilon)\n",
    "    \n",
    "    # Calculate Binary Cross-Entropy loss\n",
    "    bce_loss = -np.mean(y * np.log(predictions) + (1 - y) * np.log(1 - predictions))\n",
    "    \n",
    "    return bce_loss\n",
    "n_layers = 4\n",
    "weights = np.random.randn(n_layers, 2, 3)  # (layers, rotations, qubits)"
   ]
  },
  {
   "cell_type": "code",
   "execution_count": 12,
   "id": "1a6f82b5-ac96-4d5e-b5b0-12d189f61175",
   "metadata": {},
   "outputs": [
    {
     "name": "stdout",
     "output_type": "stream",
     "text": [
      "0: ──RX(1.77)──Rot(0.29,0.05,-0.69)─╭●─╭X──Rot(-0.29,1.22,0.06)──╭●─╭X──Rot(0.26,-0.54,-1.02)─╭●─╭X\n",
      "1: ──RX(0.05)──Rot(-0.17,0.86,1.05)─╰X─╰●──Rot(-1.77,-0.37,0.53)─╰X─╰●──Rot(0.36,-0.69,-0.49)─╰X─╰●\n",
      "\n",
      "───Rot(-0.61,0.38,1.08)──╭●─╭X─┤  <Z>\n",
      "───Rot(-0.28,0.91,-0.95)─╰X─╰●─┤     \n"
     ]
    }
   ],
   "source": [
    "circuit_draw = qml.draw(circuit,level=\"device\")(X_train[0], weights)  # Visualize with the first training sample\n",
    "print(circuit_draw)\n"
   ]
  },
  {
   "cell_type": "code",
   "execution_count": 13,
   "id": "178b19d7-f6aa-47e4-9cf7-8fbf587e3a65",
   "metadata": {},
   "outputs": [
    {
     "name": "stdout",
     "output_type": "stream",
     "text": [
      "[ 0.2928727   0.04555106 -0.69048381 -0.17484763  0.86333038  1.04650458\n",
      " -0.28851314  1.2192413   0.05563221 -1.76547252 -0.36546721  0.52612036\n",
      "  0.26430212 -0.53575285 -1.0235261   0.36135714 -0.69464777 -0.49280703\n",
      " -0.60580837  0.37933657  1.07581176 -0.27682855  0.91370317 -0.95278777]\n"
     ]
    }
   ],
   "source": [
    "from scipy.optimize import minimize\n",
    "\n",
    "# Optimize the weights\n",
    "print(weights.flatten())\n",
    "result = minimize(lambda w: cost(w.reshape(n_layers, 2, 3), X_train, y_train), \n",
    "                  weights.flatten(), method='Powell')\n",
    "optimized_weights = result.x.reshape(n_layers, 2, 3)\n",
    "\n"
   ]
  },
  {
   "cell_type": "code",
   "execution_count": 17,
   "id": "66542893-1eaf-4308-912d-2f54e2ded4e9",
   "metadata": {},
   "outputs": [],
   "source": [
    "def predict(X):\n",
    "    predictions = [circuit(x, optimized_weights) for x in X]\n",
    "    predictions = np.array(predictions)\n",
    "    return np.round((predictions + 1) / 2)  # Convert to binary (0 or 1)\n",
    "\n",
    "# Make predictions\n",
    "y_pred = predict(X_test)"
   ]
  },
  {
   "cell_type": "code",
   "execution_count": 18,
   "id": "13566a38-d23f-4386-a417-530e2c7e1629",
   "metadata": {},
   "outputs": [
    {
     "data": {
      "text/plain": [
       "0.875"
      ]
     },
     "execution_count": 18,
     "metadata": {},
     "output_type": "execute_result"
    }
   ],
   "source": [
    "accuracy_score(y_pred,y_test)"
   ]
  }
 ],
 "metadata": {
  "kernelspec": {
   "display_name": "Python 3 (ipykernel)",
   "language": "python",
   "name": "python3"
  },
  "language_info": {
   "codemirror_mode": {
    "name": "ipython",
    "version": 3
   },
   "file_extension": ".py",
   "mimetype": "text/x-python",
   "name": "python",
   "nbconvert_exporter": "python",
   "pygments_lexer": "ipython3",
   "version": "3.11.9"
  }
 },
 "nbformat": 4,
 "nbformat_minor": 5
}

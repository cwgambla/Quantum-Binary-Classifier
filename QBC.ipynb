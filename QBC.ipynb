{
 "cells": [
  {
   "cell_type": "code",
   "execution_count": 1,
   "id": "c1b923b3-9876-40e6-ace2-c0e469fe0833",
   "metadata": {},
   "outputs": [],
   "source": [
    "import pennylane as qml\n",
    "import numpy as np\n",
    "from sklearn.datasets import make_moons\n",
    "from sklearn.model_selection import train_test_split\n",
    "from sklearn.preprocessing import StandardScaler\n",
    "from sklearn.metrics import accuracy_score\n",
    "from sklearn.metrics import log_loss"
   ]
  },
  {
   "cell_type": "code",
   "execution_count": 2,
   "id": "77742c8a-68f3-4cec-91a7-d1d4a05fb8c1",
   "metadata": {},
   "outputs": [
    {
     "name": "stdout",
     "output_type": "stream",
     "text": [
      "(800,)\n"
     ]
    }
   ],
   "source": [
    "# Create a toy dataset\n",
    "X, y = make_moons(n_samples=1000, noise=0.1, random_state=42)\n",
    "X_train, X_test, y_train, y_test = train_test_split(X, y, test_size=0.2, random_state=42)\n",
    "# Standardize the data\n",
    "print(y_train.shape)\n",
    "scaler = StandardScaler()\n",
    "X_train = scaler.fit_transform(X_train)\n",
    "X_test = scaler.transform(X_test)"
   ]
  },
  {
   "cell_type": "code",
   "execution_count": 3,
   "id": "f7e6ca12-d6a4-4d92-b46e-bdc19e292e20",
   "metadata": {},
   "outputs": [
    {
     "name": "stdout",
     "output_type": "stream",
     "text": [
      "[[ 1.76755973  0.05440598]\n",
      " [-1.76617114  0.31537521]\n",
      " [-0.72279926  1.65748645]\n",
      " ...\n",
      " [-1.46428304  0.67329721]\n",
      " [ 0.66197793 -0.22513462]\n",
      " [ 1.64081996 -0.23154454]]\n"
     ]
    }
   ],
   "source": [
    "print(X_train)"
   ]
  },
  {
   "cell_type": "code",
   "execution_count": 4,
   "id": "c7c0a326-25f7-49fc-8d9f-6c6a0060554c",
   "metadata": {},
   "outputs": [],
   "source": [
    "n_qubits = 2  # Number of qubits\n",
    "dev = qml.device(\"default.qubit\", wires=n_qubits)\n",
    "\n",
    "@qml.qnode(dev)\n",
    "def circuit(x, weights):\n",
    "    # Angle embedding\n",
    "    qml.templates.AngleEmbedding(x, wires=range(n_qubits))\n",
    "\n",
    "    # Basic entangler layers\n",
    "    qml.templates.StronglyEntanglingLayers(weights, wires=range(n_qubits))\n",
    "    \n",
    "    # Measurement\n",
    "    return qml.expval(qml.PauliZ(0))\n"
   ]
  },
  {
   "cell_type": "code",
   "execution_count": 5,
   "id": "94420c43-d8b7-4ac4-9d92-032a64f95f3b",
   "metadata": {},
   "outputs": [],
   "source": [
    "import tensorflow as tf\n",
    "\n",
    "def cost(weights, X, y):\n",
    "    predictions = []\n",
    "    \n",
    "    # Gather predictions from the circuit\n",
    "    for x in X:\n",
    "        pred = circuit(x, weights)  # Get the prediction for each input\n",
    "        predictions.append(pred)\n",
    "\n",
    "    # Convert predictions to a NumPy array\n",
    "    predictions = np.array(predictions)\n",
    "\n",
    "    # Ensure predictions are in the range [0, 1]\n",
    "    predictions = (predictions + 1) / 2  # Map from [-1, 1] to [0, 1]\n",
    "\n",
    "    # Calculate Binary Cross-Entropy loss\n",
    "    # Using numpy's clip function to avoid log(0)\n",
    "    epsilon = 1e-12  # Small constant to avoid division by zero\n",
    "    predictions = np.clip(predictions, epsilon, 1 - epsilon)  # Clip values\n",
    "\n",
    "    # BCE calculation\n",
    "    bce_loss = -np.mean(y * np.log(predictions) + (1 - y) * np.log(1 - predictions))\n",
    "\n",
    "    return bce_loss\n",
    "# Initialize weights randomly (3 layers with 3 parameters each for 2 qubits)\n",
    "n_layers = 1\n",
    "weights = np.random.randn(n_layers, 2, 3)  # (layers, rotations, qubits)\n",
    "\n",
    "\n"
   ]
  },
  {
   "cell_type": "code",
   "execution_count": 6,
   "id": "1a6f82b5-ac96-4d5e-b5b0-12d189f61175",
   "metadata": {},
   "outputs": [
    {
     "name": "stdout",
     "output_type": "stream",
     "text": [
      "0: ─╭AngleEmbedding(M0)─╭StronglyEntanglingLayers(M1)─┤  <Z>\n",
      "1: ─╰AngleEmbedding(M0)─╰StronglyEntanglingLayers(M1)─┤     \n",
      "\n",
      "M0 = \n",
      "[1.76755973 0.05440598]\n",
      "M1 = \n",
      "[[[-0.32022268  0.66973221 -0.25760099]\n",
      "  [ 0.5032784   1.50313558  0.87035659]]]\n"
     ]
    }
   ],
   "source": [
    "circuit_draw = qml.draw(circuit)(X_train[0], weights)  # Visualize with the first training sample\n",
    "print(circuit_draw)\n"
   ]
  },
  {
   "cell_type": "code",
   "execution_count": 7,
   "id": "178b19d7-f6aa-47e4-9cf7-8fbf587e3a65",
   "metadata": {},
   "outputs": [
    {
     "name": "stdout",
     "output_type": "stream",
     "text": [
      "[-0.32022268  0.66973221 -0.25760099  0.5032784   1.50313558  0.87035659]\n"
     ]
    }
   ],
   "source": [
    "from scipy.optimize import minimize\n",
    "\n",
    "# Optimize the weights\n",
    "print(weights.flatten())\n",
    "result = minimize(lambda w: cost(w.reshape(n_layers, 2, 3), X_train, y_train), \n",
    "                  weights.flatten(), method='BFGS')\n",
    "optimized_weights = result.x.reshape(n_layers, 2, 3)\n",
    "\n"
   ]
  },
  {
   "cell_type": "code",
   "execution_count": 8,
   "id": "66542893-1eaf-4308-912d-2f54e2ded4e9",
   "metadata": {},
   "outputs": [
    {
     "name": "stdout",
     "output_type": "stream",
     "text": [
      "Predictions shape: (200,)\n",
      "[1. 0. 1. 0. 1. 1. 1. 1. 1. 0. 0. 1. 0. 1. 0. 0. 1. 0. 1. 0. 0. 1. 1. 0.\n",
      " 0. 1. 0. 1. 0. 1. 1. 0. 0. 1. 0. 1. 1. 1. 1. 1. 1. 1. 1. 0. 0. 1. 0. 0.\n",
      " 1. 1. 0. 0. 0. 0. 0. 0. 0. 1. 1. 0. 1. 1. 0. 1. 1. 1. 0. 1. 0. 1. 1. 0.\n",
      " 0. 1. 0. 0. 1. 0. 0. 1. 0. 1. 0. 1. 1. 1. 0. 0. 0. 1. 1. 1. 1. 1. 1. 0.\n",
      " 1. 1. 0. 1. 0. 0. 1. 0. 0. 0. 1. 0. 0. 0. 1. 1. 0. 1. 0. 0. 1. 0. 1. 0.\n",
      " 1. 0. 0. 1. 0. 0. 1. 1. 0. 1. 1. 1. 1. 0. 0. 1. 1. 0. 0. 1. 0. 0. 0. 1.\n",
      " 0. 0. 1. 0. 1. 0. 0. 0. 1. 0. 0. 1. 1. 0. 0. 1. 0. 0. 1. 0. 1. 0. 1. 0.\n",
      " 0. 1. 1. 1. 0. 0. 0. 0. 0. 1. 1. 0. 0. 1. 0. 1. 1. 0. 0. 1. 1. 1. 0. 1.\n",
      " 1. 0. 1. 0. 1. 1. 1. 1.]\n"
     ]
    }
   ],
   "source": [
    "def predict(X):\n",
    "    predictions = [circuit(x, optimized_weights) for x in X]\n",
    "    predictions = np.array(predictions)\n",
    "    return np.round((predictions + 1) / 2)  # Convert to binary (0 or 1)\n",
    "\n",
    "# Make predictions\n",
    "y_pred = predict(X_test)\n",
    "\n",
    "# Check the shape of predictions\n",
    "print(f\"Predictions shape: {y_pred.shape}\")\n",
    "print(y_pred)"
   ]
  },
  {
   "cell_type": "code",
   "execution_count": 9,
   "id": "13566a38-d23f-4386-a417-530e2c7e1629",
   "metadata": {},
   "outputs": [
    {
     "name": "stdout",
     "output_type": "stream",
     "text": [
      "[1. 0. 1. 0. 1. 1. 1. 1. 1. 0. 0. 1. 0. 1. 0. 0. 1. 0. 1. 0. 0. 1. 1. 0.\n",
      " 0. 1. 0. 1. 0. 1. 1. 0. 0. 1. 0. 1. 1. 1. 1. 1. 1. 1. 1. 0. 0. 1. 0. 0.\n",
      " 1. 1. 0. 0. 0. 0. 0. 0. 0. 1. 1. 0. 1. 1. 0. 1. 1. 1. 0. 1. 0. 1. 1. 0.\n",
      " 0. 1. 0. 0. 1. 0. 0. 1. 0. 1. 0. 1. 1. 1. 0. 0. 0. 1. 1. 1. 1. 1. 1. 0.\n",
      " 1. 1. 0. 1. 0. 0. 1. 0. 0. 0. 1. 0. 0. 0. 1. 1. 0. 1. 0. 0. 1. 0. 1. 0.\n",
      " 1. 0. 0. 1. 0. 0. 1. 1. 0. 1. 1. 1. 1. 0. 0. 1. 1. 0. 0. 1. 0. 0. 0. 1.\n",
      " 0. 0. 1. 0. 1. 0. 0. 0. 1. 0. 0. 1. 1. 0. 0. 1. 0. 0. 1. 0. 1. 0. 1. 0.\n",
      " 0. 1. 1. 1. 0. 0. 0. 0. 0. 1. 1. 0. 0. 1. 0. 1. 1. 0. 0. 1. 1. 1. 0. 1.\n",
      " 1. 0. 1. 0. 1. 1. 1. 1.] [1 0 1 0 1 1 0 0 1 0 0 1 0 1 0 1 1 0 1 0 0 0 1 0 0 0 0 0 0 1 1 0 0 1 0 1 1\n",
      " 1 1 1 1 1 1 0 0 1 0 0 1 1 0 0 0 0 1 0 1 1 1 0 1 0 0 1 1 1 1 0 0 0 1 0 0 1\n",
      " 1 1 1 0 0 1 0 1 0 1 1 1 0 0 0 0 1 1 1 1 1 0 1 1 0 1 0 0 1 1 0 0 1 0 0 1 1\n",
      " 1 0 1 1 0 1 0 1 0 1 0 0 1 1 0 1 1 0 1 1 0 1 0 0 0 1 0 0 1 0 0 0 1 0 0 1 0\n",
      " 1 0 1 0 1 0 1 1 1 0 0 1 0 1 1 0 1 0 0 0 0 1 1 1 1 0 0 0 0 0 1 0 0 1 0 1 1\n",
      " 0 0 0 1 1 0 1 1 0 1 0 1 0 1 1]\n"
     ]
    },
    {
     "data": {
      "text/plain": [
       "0.855"
      ]
     },
     "execution_count": 9,
     "metadata": {},
     "output_type": "execute_result"
    }
   ],
   "source": [
    "print(y_pred,y_test)\n",
    "accuracy_score(y_pred,y_test)"
   ]
  },
  {
   "cell_type": "code",
   "execution_count": 10,
   "id": "b53d8b80-6ec6-41ef-9ac5-d0b9b2ef23bf",
   "metadata": {},
   "outputs": [
    {
     "name": "stdout",
     "output_type": "stream",
     "text": [
      "Cross-Entropy Loss: 0.1976\n"
     ]
    }
   ],
   "source": [
    "import numpy as np\n",
    "from sklearn.metrics import log_loss\n",
    "\n",
    "# Sample true labels (0s and 1s for binary classification)\n",
    "y_true = np.array([0, 1, 1, 0])\n",
    "\n",
    "# Sample predicted probabilities\n",
    "# These should be probabilities (between 0 and 1)\n",
    "y_pred = np.array([0.1, 0.9, 0.8, 0.3])  # Predicted probabilities for the positive class\n",
    "\n",
    "# Calculate cross-entropy loss\n",
    "loss = log_loss(y_true, y_pred)\n",
    "\n",
    "print(f\"Cross-Entropy Loss: {loss:.4f}\")"
   ]
  }
 ],
 "metadata": {
  "kernelspec": {
   "display_name": "Python 3 (ipykernel)",
   "language": "python",
   "name": "python3"
  },
  "language_info": {
   "codemirror_mode": {
    "name": "ipython",
    "version": 3
   },
   "file_extension": ".py",
   "mimetype": "text/x-python",
   "name": "python",
   "nbconvert_exporter": "python",
   "pygments_lexer": "ipython3",
   "version": "3.11.9"
  }
 },
 "nbformat": 4,
 "nbformat_minor": 5
}

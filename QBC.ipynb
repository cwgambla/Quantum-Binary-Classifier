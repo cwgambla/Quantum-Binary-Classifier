{
 "cells": [
  {
   "cell_type": "code",
   "execution_count": 56,
   "id": "c1b923b3-9876-40e6-ace2-c0e469fe0833",
   "metadata": {},
   "outputs": [],
   "source": [
    "import pennylane as qml\n",
    "import numpy as np\n",
    "from sklearn.datasets import make_moons\n",
    "from sklearn.model_selection import train_test_split\n",
    "from sklearn.preprocessing import StandardScaler\n",
    "from sklearn.metrics import accuracy_score\n",
    "from sklearn.metrics import log_loss\n",
    "from sklearn.model_selection import train_test_split\n",
    "from sklearn.preprocessing import StandardScaler\n",
    "from sklearn.linear_model import LogisticRegression\n",
    "from sklearn.metrics import accuracy_score, classification_report\n",
    "from sklearn.tree import DecisionTreeClassifier"
   ]
  },
  {
   "cell_type": "code",
   "execution_count": 57,
   "id": "77742c8a-68f3-4cec-91a7-d1d4a05fb8c1",
   "metadata": {},
   "outputs": [
    {
     "name": "stdout",
     "output_type": "stream",
     "text": [
      "(16000,)\n"
     ]
    }
   ],
   "source": [
    "# Create a toy dataset\n",
    "X, y = make_moons(n_samples=20000, noise=0.1, random_state=42)\n",
    "X_train, X_test, y_train, y_test = train_test_split(X, y, test_size=0.2, random_state=42)\n",
    "# Standardize the data\n",
    "print(y_train.shape)\n",
    "scaler = StandardScaler()\n",
    "X_train = scaler.fit_transform(X_train)\n",
    "X_test = scaler.transform(X_test)"
   ]
  },
  {
   "cell_type": "code",
   "execution_count": 58,
   "id": "f7e6ca12-d6a4-4d92-b46e-bdc19e292e20",
   "metadata": {},
   "outputs": [
    {
     "name": "stdout",
     "output_type": "stream",
     "text": [
      "[[ 1.00726474 -1.46813234]\n",
      " [-0.68965642  1.33600835]\n",
      " [ 0.00975331  1.73491933]\n",
      " ...\n",
      " [-1.56147295 -0.08107165]\n",
      " [ 0.11203311 -0.98636342]\n",
      " [ 0.82547901 -1.40691605]]\n"
     ]
    }
   ],
   "source": [
    "print(X_train)"
   ]
  },
  {
   "cell_type": "code",
   "execution_count": 59,
   "id": "c7c0a326-25f7-49fc-8d9f-6c6a0060554c",
   "metadata": {},
   "outputs": [],
   "source": [
    "n_qubits = 2  # Number of qubits\n",
    "dev = qml.device(\"default.qubit\", wires=n_qubits)\n",
    "\n",
    "@qml.qnode(dev)\n",
    "def circuit(x, weights):\n",
    "    # Angle embedding\n",
    "    qml.templates.AngleEmbedding(x, wires=range(n_qubits))\n",
    "\n",
    "    # Basic entangler layers\n",
    "    qml.templates.StronglyEntanglingLayers(weights, wires=range(n_qubits))\n",
    "    \n",
    "    # Measurement\n",
    "    return qml.expval(qml.PauliZ(0))\n"
   ]
  },
  {
   "cell_type": "code",
   "execution_count": 60,
   "id": "42d39df0-9bf2-4fd8-b4a3-e96fdbbb09da",
   "metadata": {},
   "outputs": [],
   "source": [
    "def cost(weights, X, y):\n",
    "    # Combine X and y into a single array for easier processing\n",
    "    combined = np.column_stack((X, y))\n",
    "    \n",
    "    # Use NumPy's vectorized operations\n",
    "    predictions = circuit(combined[:, :-1], weights)\n",
    "    predictions = (predictions + 1) / 2\n",
    "    \n",
    "    # Clip predictions to avoid log(0)\n",
    "    epsilon = 1e-12\n",
    "    predictions = np.clip(predictions, epsilon, 1 - epsilon)\n",
    "    \n",
    "    # Calculate Binary Cross-Entropy loss\n",
    "    bce_loss = -np.mean(y * np.log(predictions) + (1 - y) * np.log(1 - predictions))\n",
    "    \n",
    "    return bce_loss\n",
    "n_layers = 5\n",
    "weights = np.random.randn(n_layers, 2, 3)  # (layers, rotations, qubits)"
   ]
  },
  {
   "cell_type": "code",
   "execution_count": 61,
   "id": "1a6f82b5-ac96-4d5e-b5b0-12d189f61175",
   "metadata": {},
   "outputs": [
    {
     "name": "stdout",
     "output_type": "stream",
     "text": [
      "0: ──RX(1.01)───Rot(-0.63,-1.08,-2.38)─╭●─╭X──Rot(0.71,-2.36,0.11)──╭●─╭X──Rot(-0.93,0.64,0.02)─╭●\n",
      "1: ──RX(-1.47)──Rot(0.99,1.16,0.49)────╰X─╰●──Rot(-0.00,-0.27,0.24)─╰X─╰●──Rot(1.45,0.23,-0.11)─╰X\n",
      "\n",
      "──╭X──Rot(1.65,1.18,-0.63)─╭●─╭X──Rot(-0.67,-0.22,0.25)─╭●─╭X─┤  <Z>\n",
      "──╰●──Rot(-1.68,0.32,3.09)─╰X─╰●──Rot(-0.69,-0.27,0.01)─╰X─╰●─┤     \n"
     ]
    }
   ],
   "source": [
    "circuit_draw = qml.draw(circuit,level=\"device\")(X_train[0], weights)  # Visualize with the first training sample\n",
    "print(circuit_draw)\n"
   ]
  },
  {
   "cell_type": "code",
   "execution_count": 62,
   "id": "178b19d7-f6aa-47e4-9cf7-8fbf587e3a65",
   "metadata": {},
   "outputs": [
    {
     "name": "stdout",
     "output_type": "stream",
     "text": [
      "[-0.62897244 -1.07606259 -2.37637009  0.98834329  1.16445786  0.4928361\n",
      "  0.71038592 -2.35693561  0.10957783 -0.00421221 -0.26755016  0.24010865\n",
      " -0.93275001  0.64205606  0.01790422  1.44560115  0.22963679 -0.11200748\n",
      "  1.64603124  1.17572079 -0.630651   -1.67691345  0.31881486  3.08725156\n",
      " -0.67377807 -0.21572929  0.24893356 -0.69146851 -0.27043981  0.00650666]\n"
     ]
    }
   ],
   "source": [
    "from scipy.optimize import minimize\n",
    "\n",
    "# Optimize the weights\n",
    "print(weights.flatten())\n",
    "result = minimize(lambda w: cost(w.reshape(n_layers, 2, 3), X_train, y_train), \n",
    "                  weights.flatten(), method='Powell')\n",
    "optimized_weights = result.x.reshape(n_layers, 2, 3)\n",
    "\n"
   ]
  },
  {
   "cell_type": "code",
   "execution_count": 63,
   "id": "66542893-1eaf-4308-912d-2f54e2ded4e9",
   "metadata": {},
   "outputs": [],
   "source": [
    "def predict(X):\n",
    "    predictions = [circuit(x, optimized_weights) for x in X]\n",
    "    predictions = np.array(predictions)\n",
    "    return np.round((predictions + 1) / 2)  # Convert to binary (0 or 1)\n",
    "\n",
    "# Make predictions\n",
    "y_pred = predict(X_test)"
   ]
  },
  {
   "cell_type": "code",
   "execution_count": 64,
   "id": "13566a38-d23f-4386-a417-530e2c7e1629",
   "metadata": {},
   "outputs": [
    {
     "data": {
      "text/plain": [
       "0.8645"
      ]
     },
     "execution_count": 64,
     "metadata": {},
     "output_type": "execute_result"
    }
   ],
   "source": [
    "accuracy_score(y_pred,y_test)"
   ]
  },
  {
   "cell_type": "code",
   "execution_count": 65,
   "id": "0c438fe8-2b0a-4281-9033-6c7ab5e64e05",
   "metadata": {},
   "outputs": [
    {
     "name": "stdout",
     "output_type": "stream",
     "text": [
      "Accuracy: 0.89\n",
      "Classification Report:\n",
      "               precision    recall  f1-score   support\n",
      "\n",
      "           0       0.89      0.89      0.89      2055\n",
      "           1       0.88      0.89      0.88      1945\n",
      "\n",
      "    accuracy                           0.89      4000\n",
      "   macro avg       0.89      0.89      0.89      4000\n",
      "weighted avg       0.89      0.89      0.89      4000\n",
      "\n"
     ]
    }
   ],
   "source": [
    "# Step 4: Standardize features\n",
    "scaler = StandardScaler()\n",
    "X_train = scaler.fit_transform(X_train)\n",
    "X_test = scaler.transform(X_test)\n",
    "\n",
    "# Step 5: Choose and train the model\n",
    "model = LogisticRegression()\n",
    "model.fit(X_train, y_train)\n",
    "\n",
    "# Step 6: Make predictions\n",
    "y_pred = model.predict(X_test)\n",
    "\n",
    "# Step 7: Evaluate the model\n",
    "accuracy = accuracy_score(y_test, y_pred)\n",
    "report = classification_report(y_test, y_pred)\n",
    "\n",
    "print(f\"Accuracy: {accuracy:.2f}\")\n",
    "print(\"Classification Report:\\n\", report)\n"
   ]
  },
  {
   "cell_type": "code",
   "execution_count": 66,
   "id": "f845753f-0b02-4978-9ba5-5fba175e35a1",
   "metadata": {},
   "outputs": [
    {
     "name": "stdout",
     "output_type": "stream",
     "text": [
      "Decision Tree Accuracy: 0.998\n"
     ]
    }
   ],
   "source": [
    "# Train the model\n",
    "dt_model = DecisionTreeClassifier(random_state=42)\n",
    "dt_model.fit(X_train, y_train)\n",
    "\n",
    "# Make predictions and evaluate\n",
    "y_pred_dt = dt_model.predict(X_test)\n",
    "print(\"Decision Tree Accuracy:\", accuracy_score(y_test, y_pred_dt))"
   ]
  }
 ],
 "metadata": {
  "kernelspec": {
   "display_name": "Python 3 (ipykernel)",
   "language": "python",
   "name": "python3"
  },
  "language_info": {
   "codemirror_mode": {
    "name": "ipython",
    "version": 3
   },
   "file_extension": ".py",
   "mimetype": "text/x-python",
   "name": "python",
   "nbconvert_exporter": "python",
   "pygments_lexer": "ipython3",
   "version": "3.11.9"
  }
 },
 "nbformat": 4,
 "nbformat_minor": 5
}

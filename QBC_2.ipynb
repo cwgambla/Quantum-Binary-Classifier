{
 "cells": [
  {
   "cell_type": "code",
   "execution_count": 34,
   "id": "2d6a6197-07e5-4fd0-83ee-d2995d069633",
   "metadata": {},
   "outputs": [],
   "source": [
    "import pennylane as qml\n",
    "from pennylane import numpy as np\n",
    "from pennylane.optimize import AdamOptimizer\n",
    "dev = qml.device(\"default.qubit\")\n",
    "import pennylane as qml\n",
    "from pennylane import numpy as np\n",
    "import pandas as pd\n",
    "from sklearn.model_selection import train_test_split\n",
    "from sklearn.preprocessing import StandardScaler\n",
    "from sklearn.metrics import accuracy_score\n",
    "from sklearn.metrics import log_loss\n",
    "from sklearn.model_selection import train_test_split\n",
    "from sklearn.preprocessing import StandardScaler\n",
    "from sklearn.linear_model import LogisticRegression\n",
    "from sklearn.metrics import accuracy_score, classification_report\n",
    "from sklearn.tree import DecisionTreeClassifier\n",
    "from sklearn.preprocessing import LabelEncoder\n",
    "from pennylane.optimize import NesterovMomentumOptimizer"
   ]
  },
  {
   "cell_type": "code",
   "execution_count": 35,
   "id": "9c32f3a8-c703-44d9-a726-3289ce94aa7e",
   "metadata": {},
   "outputs": [],
   "source": [
    "num_qubits = 7\n",
    "num_layers = 2\n",
    "@qml.qnode(dev)\n",
    "def circuit(x, weights):\n",
    "    # Angle embedding\n",
    "    # print(\"Input:\",x)\n",
    "    qml.templates.AngleEmbedding(x, wires=range(num_qubits))\n",
    "\n",
    "    # Basic entangler layers\n",
    "    qml.templates.StronglyEntanglingLayers(weights, wires=range(num_qubits))\n",
    "\n",
    "    # qml.CNOT(wires=[10,0])\n",
    "    # Measurement\n",
    "    return qml.expval(qml.PauliX(0))\n"
   ]
  },
  {
   "cell_type": "code",
   "execution_count": 36,
   "id": "a78b413f-82cf-4417-be25-f847052b899e",
   "metadata": {},
   "outputs": [],
   "source": [
    "def accuracy(labels, predictions):\n",
    "    acc = sum(abs(l - p) < 1e-5 for l, p in zip(labels, predictions))\n",
    "    acc = acc / len(labels)\n",
    "    return acc\n"
   ]
  },
  {
   "cell_type": "code",
   "execution_count": 37,
   "id": "dacbda74-4fb5-4b7c-b9c9-eaa0e9c25f14",
   "metadata": {},
   "outputs": [],
   "source": [
    "def cost(weights, X, Y):\n",
    "    predictions = circuit(X, weights)\n",
    "    \n",
    "    # Sigmoid activation to convert to probabilities\n",
    "    predictions = 1 / (1 + np.exp(-predictions,requires_grad = True))\n",
    "\n",
    "    # Calculate BCE loss\n",
    "    bce_loss = -np.mean(Y * np.log(predictions + 1e-10) + (1 - Y) * np.log(1 - predictions + 1e-10))\n",
    "    return bce_loss"
   ]
  },
  {
   "cell_type": "code",
   "execution_count": 38,
   "id": "dc08e09c-b5eb-499b-96c6-5a2f37d62c62",
   "metadata": {},
   "outputs": [
    {
     "name": "stdout",
     "output_type": "stream",
     "text": [
      "Missing values in each column:\n",
      " person_age                       0\n",
      "person_income                    0\n",
      "person_home_ownership            0\n",
      "person_emp_length              895\n",
      "loan_intent                      0\n",
      "loan_grade                       0\n",
      "loan_amnt                        0\n",
      "loan_int_rate                 3116\n",
      "loan_status                      0\n",
      "loan_percent_income              0\n",
      "cb_person_default_on_file        0\n",
      "cb_person_cred_hist_length       0\n",
      "dtype: int64\n",
      "person_age                        25.00\n",
      "person_income                 105000.00\n",
      "person_emp_length                  2.00\n",
      "loan_amnt                       9600.00\n",
      "loan_int_rate                     11.71\n",
      "loan_percent_income                0.09\n",
      "cb_person_cred_hist_length         3.00\n",
      "Name: 12599, dtype: float64\n",
      "X_train: (22910, 7), y_train: (22910,)\n",
      "X_test: (2864, 7), y_test: (2864,)\n"
     ]
    }
   ],
   "source": [
    "from sklearn.model_selection import train_test_split\n",
    "from sklearn.preprocessing import StandardScaler, LabelEncoder\n",
    "\n",
    "# Load the dataset (adjust the path to your file)\n",
    "df = pd.read_csv('credit_risk_dataset.csv')\n",
    "\n",
    "# Display the first few rows\n",
    "\n",
    "\n",
    "# Check for missing values\n",
    "print(\"Missing values in each column:\\n\", df.isnull().sum())\n",
    "\n",
    "# Preprocessing: Fill or drop missing values as necessary\n",
    "# df.fillna(0, inplace=True)\n",
    "\n",
    "df.dropna(inplace=True)\n",
    "df = df.reset_index(drop=True)\n",
    "df = df.select_dtypes(exclude=['object'])\n",
    "# Identify categorical columns\n",
    "# categorical_cols = df.select_dtypes(include=['object', 'category']).columns\n",
    "\n",
    "# Initialize LabelEncoder\n",
    "# label_encoder = LabelEncoder()\n",
    "\n",
    "# Encode categorical columns\n",
    "# for col in categorical_cols:\n",
    "    # df[col] = label_encoder.fit_transform(df[col])\n",
    "\n",
    "# Define features and target variable\n",
    "X = df.drop('loan_status', axis=1)  # Replace 'loan_status' with your target variable name\n",
    "# X = X.drop(['person_emp_length', 'person_age'],axis=1)\n",
    "y = df['loan_status']  # Target variable\n",
    "\n",
    "# Split the data into training and testing sets\n",
    "X_train, X_test, y_train, y_test = train_test_split(X, y, test_size=0.2, random_state=42)\n",
    "X_val, X_test, y_val, y_test= train_test_split(X_test, y_test, test_size=0.5, random_state=42)\n",
    "print(X_train.iloc[0])\n",
    "\n",
    "# Standardize the data\n",
    "scaler = StandardScaler()\n",
    "X_train = scaler.fit_transform(X_train)\n",
    "X_test = scaler.transform(X_test)\n",
    "X_val = scaler.transform(X_val)\n",
    "y_train = y_train.to_numpy()\n",
    "y_val = y_val.to_numpy()\n",
    "y_train[y_train==0] = -1\n",
    "y_test[y_test==0] = -1\n",
    "y_val[y_val==0] = -1\n",
    "# print(\"Shapes of the training and test sets:\")\n",
    "print(f\"X_train: {X_train.shape}, y_train: {y_train.shape}\")\n",
    "print(f\"X_test: {X_test.shape}, y_test: {y_test.shape}\")\n"
   ]
  },
  {
   "cell_type": "code",
   "execution_count": 39,
   "id": "dcecf74d-2961-4727-a9a7-6e2ede82490e",
   "metadata": {},
   "outputs": [],
   "source": [
    "np.random.seed(0)\n",
    "weights_init = np.random.randn(num_layers, num_qubits, 3, requires_grad=True)\n",
    "# bias_init = np.array(0.0, requires_grad=True)\n",
    "#\n",
    "# print(\"Weights:\", weights_init)\n",
    "# print(\"Bias: \", bias_init)"
   ]
  },
  {
   "cell_type": "code",
   "execution_count": 40,
   "id": "5553fea5-d392-412e-a156-2b68af6efc9e",
   "metadata": {},
   "outputs": [
    {
     "name": "stdout",
     "output_type": "stream",
     "text": [
      "0: ──RX(-0.43)──Rot(1.76,0.40,0.98)───╭●────────────────╭X──Rot(0.65,0.86,-0.74)───╭●─────────────╭X\n",
      "1: ──RX(0.59)───Rot(2.24,1.87,-0.98)──╰X─╭●─────────────│───Rot(2.27,-1.45,0.05)───│──╭●──────────│─\n",
      "2: ──RX(-0.67)──Rot(0.95,-0.15,-0.10)────╰X─╭●──────────│───Rot(-0.19,1.53,1.47)───╰X─│──╭●───────│─\n",
      "3: ──RX(-0.01)──Rot(0.41,0.14,1.45)─────────╰X─╭●───────│───Rot(0.15,0.38,-0.89)──────╰X─│──╭●────│─\n",
      "4: ──RX(0.21)───Rot(0.76,0.12,0.44)────────────╰X─╭●────│───Rot(-1.98,-0.35,0.16)────────╰X─│──╭●─│─\n",
      "5: ──RX(-0.75)──Rot(0.33,1.49,-0.21)──────────────╰X─╭●─│───Rot(1.23,1.20,-0.39)────────────╰X─│──╰●\n",
      "6: ──RX(-0.69)──Rot(0.31,-0.85,-2.55)────────────────╰X─╰●──Rot(-0.30,-1.05,-1.42)─────────────╰X───\n",
      "\n",
      "─────┤  <X>\n",
      "──╭X─┤     \n",
      "──│──┤     \n",
      "──│──┤     \n",
      "──│──┤     \n",
      "──│──┤     \n",
      "──╰●─┤     \n",
      "[-0.43340234  0.58547569 -0.66894316 -0.00936358  0.20828177 -0.74577645\n",
      " -0.69441265]\n"
     ]
    }
   ],
   "source": [
    "circuit_draw = qml.draw(circuit,level=\"device\")(X_train[0], weights_init)  # Visualize with the first training sample\n",
    "print(circuit_draw)\n",
    "print(X_train[0])"
   ]
  },
  {
   "cell_type": "code",
   "execution_count": 41,
   "id": "9722450f-0f35-4a7a-a6ed-354c341f3d6c",
   "metadata": {},
   "outputs": [
    {
     "name": "stdout",
     "output_type": "stream",
     "text": [
      "Iter:    1 | Cost: 0.7136012 | Accuracy: 0.5625000 | Val: 0.6875000\n",
      "Iter:   11 | Cost: 0.7129350 | Accuracy: 0.5000000 | Val: 0.6250000\n",
      "Iter:   21 | Cost: 0.6615056 | Accuracy: 0.6250000 | Val: 0.6250000\n"
     ]
    },
    {
     "ename": "KeyboardInterrupt",
     "evalue": "",
     "output_type": "error",
     "traceback": [
      "\u001b[1;31m---------------------------------------------------------------------------\u001b[0m",
      "\u001b[1;31mKeyboardInterrupt\u001b[0m                         Traceback (most recent call last)",
      "Cell \u001b[1;32mIn[41], line 19\u001b[0m\n\u001b[0;32m     13\u001b[0m Y_batch \u001b[38;5;241m=\u001b[39m y_train[batch_index]\n\u001b[0;32m     15\u001b[0m \u001b[38;5;66;03m# X_val_b = X_val[ batch_index_val]\u001b[39;00m\n\u001b[0;32m     16\u001b[0m \u001b[38;5;66;03m# Y_val_b = y_val[ batch_index_val]\u001b[39;00m\n\u001b[0;32m     17\u001b[0m \n\u001b[0;32m     18\u001b[0m \u001b[38;5;66;03m# print(Y_batch)\u001b[39;00m\n\u001b[1;32m---> 19\u001b[0m weights\u001b[38;5;241m=\u001b[39m opt\u001b[38;5;241m.\u001b[39mstep(cost, weights,  X\u001b[38;5;241m=\u001b[39mX_batch, Y\u001b[38;5;241m=\u001b[39mY_batch)\n\u001b[0;32m     21\u001b[0m \u001b[38;5;66;03m# Compute accuracy\u001b[39;00m\n\u001b[0;32m     22\u001b[0m predictions \u001b[38;5;241m=\u001b[39m [np\u001b[38;5;241m.\u001b[39msign(circuit(x,  weights)) \u001b[38;5;28;01mfor\u001b[39;00m x \u001b[38;5;129;01min\u001b[39;00m X_batch]\n",
      "File \u001b[1;32m~\\.conda\\envs\\Quantum\\Lib\\site-packages\\pennylane\\optimize\\gradient_descent.py:93\u001b[0m, in \u001b[0;36mGradientDescentOptimizer.step\u001b[1;34m(self, objective_fn, grad_fn, *args, **kwargs)\u001b[0m\n\u001b[0;32m     75\u001b[0m \u001b[38;5;28;01mdef\u001b[39;00m \u001b[38;5;21mstep\u001b[39m(\u001b[38;5;28mself\u001b[39m, objective_fn, \u001b[38;5;241m*\u001b[39margs, grad_fn\u001b[38;5;241m=\u001b[39m\u001b[38;5;28;01mNone\u001b[39;00m, \u001b[38;5;241m*\u001b[39m\u001b[38;5;241m*\u001b[39mkwargs):\n\u001b[0;32m     76\u001b[0m \u001b[38;5;250m    \u001b[39m\u001b[38;5;124;03m\"\"\"Update trainable arguments with one step of the optimizer.\u001b[39;00m\n\u001b[0;32m     77\u001b[0m \n\u001b[0;32m     78\u001b[0m \u001b[38;5;124;03m    Args:\u001b[39;00m\n\u001b[1;32m   (...)\u001b[0m\n\u001b[0;32m     90\u001b[0m \u001b[38;5;124;03m        If single arg is provided, list [array] is replaced by array.\u001b[39;00m\n\u001b[0;32m     91\u001b[0m \u001b[38;5;124;03m    \"\"\"\u001b[39;00m\n\u001b[1;32m---> 93\u001b[0m     g, _ \u001b[38;5;241m=\u001b[39m \u001b[38;5;28mself\u001b[39m\u001b[38;5;241m.\u001b[39mcompute_grad(objective_fn, args, kwargs, grad_fn\u001b[38;5;241m=\u001b[39mgrad_fn)\n\u001b[0;32m     94\u001b[0m     new_args \u001b[38;5;241m=\u001b[39m \u001b[38;5;28mself\u001b[39m\u001b[38;5;241m.\u001b[39mapply_grad(g, args)\n\u001b[0;32m     96\u001b[0m     \u001b[38;5;66;03m# unwrap from list if one argument, cleaner return\u001b[39;00m\n",
      "File \u001b[1;32m~\\.conda\\envs\\Quantum\\Lib\\site-packages\\pennylane\\optimize\\gradient_descent.py:122\u001b[0m, in \u001b[0;36mGradientDescentOptimizer.compute_grad\u001b[1;34m(objective_fn, args, kwargs, grad_fn)\u001b[0m\n\u001b[0;32m    104\u001b[0m \u001b[38;5;250m\u001b[39m\u001b[38;5;124mr\u001b[39m\u001b[38;5;124;03m\"\"\"Compute gradient of the objective function at the given point and return it along with\u001b[39;00m\n\u001b[0;32m    105\u001b[0m \u001b[38;5;124;03mthe objective function forward pass (if available).\u001b[39;00m\n\u001b[0;32m    106\u001b[0m \n\u001b[1;32m   (...)\u001b[0m\n\u001b[0;32m    119\u001b[0m \u001b[38;5;124;03m    will not be evaluted and instead ``None`` will be returned.\u001b[39;00m\n\u001b[0;32m    120\u001b[0m \u001b[38;5;124;03m\"\"\"\u001b[39;00m\n\u001b[0;32m    121\u001b[0m g \u001b[38;5;241m=\u001b[39m get_gradient(objective_fn) \u001b[38;5;28;01mif\u001b[39;00m grad_fn \u001b[38;5;129;01mis\u001b[39;00m \u001b[38;5;28;01mNone\u001b[39;00m \u001b[38;5;28;01melse\u001b[39;00m grad_fn\n\u001b[1;32m--> 122\u001b[0m grad \u001b[38;5;241m=\u001b[39m g(\u001b[38;5;241m*\u001b[39margs, \u001b[38;5;241m*\u001b[39m\u001b[38;5;241m*\u001b[39mkwargs)\n\u001b[0;32m    123\u001b[0m forward \u001b[38;5;241m=\u001b[39m \u001b[38;5;28mgetattr\u001b[39m(g, \u001b[38;5;124m\"\u001b[39m\u001b[38;5;124mforward\u001b[39m\u001b[38;5;124m\"\u001b[39m, \u001b[38;5;28;01mNone\u001b[39;00m)\n\u001b[0;32m    125\u001b[0m num_trainable_args \u001b[38;5;241m=\u001b[39m \u001b[38;5;28msum\u001b[39m(\u001b[38;5;28mgetattr\u001b[39m(arg, \u001b[38;5;124m\"\u001b[39m\u001b[38;5;124mrequires_grad\u001b[39m\u001b[38;5;124m\"\u001b[39m, \u001b[38;5;28;01mFalse\u001b[39;00m) \u001b[38;5;28;01mfor\u001b[39;00m arg \u001b[38;5;129;01min\u001b[39;00m args)\n",
      "File \u001b[1;32m~\\.conda\\envs\\Quantum\\Lib\\site-packages\\pennylane\\_grad.py:166\u001b[0m, in \u001b[0;36mgrad.__call__\u001b[1;34m(self, *args, **kwargs)\u001b[0m\n\u001b[0;32m    163\u001b[0m     \u001b[38;5;28mself\u001b[39m\u001b[38;5;241m.\u001b[39m_forward \u001b[38;5;241m=\u001b[39m \u001b[38;5;28mself\u001b[39m\u001b[38;5;241m.\u001b[39m_fun(\u001b[38;5;241m*\u001b[39margs, \u001b[38;5;241m*\u001b[39m\u001b[38;5;241m*\u001b[39mkwargs)\n\u001b[0;32m    164\u001b[0m     \u001b[38;5;28;01mreturn\u001b[39;00m ()\n\u001b[1;32m--> 166\u001b[0m grad_value, ans \u001b[38;5;241m=\u001b[39m grad_fn(\u001b[38;5;241m*\u001b[39margs, \u001b[38;5;241m*\u001b[39m\u001b[38;5;241m*\u001b[39mkwargs)  \u001b[38;5;66;03m# pylint: disable=not-callable\u001b[39;00m\n\u001b[0;32m    167\u001b[0m \u001b[38;5;28mself\u001b[39m\u001b[38;5;241m.\u001b[39m_forward \u001b[38;5;241m=\u001b[39m ans\n\u001b[0;32m    169\u001b[0m \u001b[38;5;28;01mreturn\u001b[39;00m grad_value\n",
      "File \u001b[1;32m~\\.conda\\envs\\Quantum\\Lib\\site-packages\\autograd\\wrap_util.py:20\u001b[0m, in \u001b[0;36munary_to_nary.<locals>.nary_operator.<locals>.nary_f\u001b[1;34m(*args, **kwargs)\u001b[0m\n\u001b[0;32m     18\u001b[0m \u001b[38;5;28;01melse\u001b[39;00m:\n\u001b[0;32m     19\u001b[0m     x \u001b[38;5;241m=\u001b[39m \u001b[38;5;28mtuple\u001b[39m(args[i] \u001b[38;5;28;01mfor\u001b[39;00m i \u001b[38;5;129;01min\u001b[39;00m argnum)\n\u001b[1;32m---> 20\u001b[0m \u001b[38;5;28;01mreturn\u001b[39;00m unary_operator(unary_f, x, \u001b[38;5;241m*\u001b[39mnary_op_args, \u001b[38;5;241m*\u001b[39m\u001b[38;5;241m*\u001b[39mnary_op_kwargs)\n",
      "File \u001b[1;32m~\\.conda\\envs\\Quantum\\Lib\\site-packages\\pennylane\\_grad.py:184\u001b[0m, in \u001b[0;36mgrad._grad_with_forward\u001b[1;34m(fun, x)\u001b[0m\n\u001b[0;32m    178\u001b[0m \u001b[38;5;129m@staticmethod\u001b[39m\n\u001b[0;32m    179\u001b[0m \u001b[38;5;129m@unary_to_nary\u001b[39m\n\u001b[0;32m    180\u001b[0m \u001b[38;5;28;01mdef\u001b[39;00m \u001b[38;5;21m_grad_with_forward\u001b[39m(fun, x):\n\u001b[0;32m    181\u001b[0m \u001b[38;5;250m    \u001b[39m\u001b[38;5;124;03m\"\"\"This function is a replica of ``autograd.grad``, with the only\u001b[39;00m\n\u001b[0;32m    182\u001b[0m \u001b[38;5;124;03m    difference being that it returns both the gradient *and* the forward pass\u001b[39;00m\n\u001b[0;32m    183\u001b[0m \u001b[38;5;124;03m    value.\"\"\"\u001b[39;00m\n\u001b[1;32m--> 184\u001b[0m     vjp, ans \u001b[38;5;241m=\u001b[39m _make_vjp(fun, x)  \u001b[38;5;66;03m# pylint: disable=redefined-outer-name\u001b[39;00m\n\u001b[0;32m    186\u001b[0m     \u001b[38;5;28;01mif\u001b[39;00m vspace(ans)\u001b[38;5;241m.\u001b[39msize \u001b[38;5;241m!=\u001b[39m \u001b[38;5;241m1\u001b[39m:\n\u001b[0;32m    187\u001b[0m         \u001b[38;5;28;01mraise\u001b[39;00m \u001b[38;5;167;01mTypeError\u001b[39;00m(\n\u001b[0;32m    188\u001b[0m             \u001b[38;5;124m\"\u001b[39m\u001b[38;5;124mGrad only applies to real scalar-output functions. \u001b[39m\u001b[38;5;124m\"\u001b[39m\n\u001b[0;32m    189\u001b[0m             \u001b[38;5;124m\"\u001b[39m\u001b[38;5;124mTry jacobian, elementwise_grad or holomorphic_grad.\u001b[39m\u001b[38;5;124m\"\u001b[39m\n\u001b[0;32m    190\u001b[0m         )\n",
      "File \u001b[1;32m~\\.conda\\envs\\Quantum\\Lib\\site-packages\\autograd\\core.py:10\u001b[0m, in \u001b[0;36mmake_vjp\u001b[1;34m(fun, x)\u001b[0m\n\u001b[0;32m      8\u001b[0m \u001b[38;5;28;01mdef\u001b[39;00m \u001b[38;5;21mmake_vjp\u001b[39m(fun, x):\n\u001b[0;32m      9\u001b[0m     start_node \u001b[38;5;241m=\u001b[39m VJPNode\u001b[38;5;241m.\u001b[39mnew_root()\n\u001b[1;32m---> 10\u001b[0m     end_value, end_node \u001b[38;5;241m=\u001b[39m  trace(start_node, fun, x)\n\u001b[0;32m     11\u001b[0m     \u001b[38;5;28;01mif\u001b[39;00m end_node \u001b[38;5;129;01mis\u001b[39;00m \u001b[38;5;28;01mNone\u001b[39;00m:\n\u001b[0;32m     12\u001b[0m         \u001b[38;5;28;01mdef\u001b[39;00m \u001b[38;5;21mvjp\u001b[39m(g): \u001b[38;5;28;01mreturn\u001b[39;00m vspace(x)\u001b[38;5;241m.\u001b[39mzeros()\n",
      "File \u001b[1;32m~\\.conda\\envs\\Quantum\\Lib\\site-packages\\autograd\\tracer.py:10\u001b[0m, in \u001b[0;36mtrace\u001b[1;34m(start_node, fun, x)\u001b[0m\n\u001b[0;32m      8\u001b[0m \u001b[38;5;28;01mwith\u001b[39;00m trace_stack\u001b[38;5;241m.\u001b[39mnew_trace() \u001b[38;5;28;01mas\u001b[39;00m t:\n\u001b[0;32m      9\u001b[0m     start_box \u001b[38;5;241m=\u001b[39m new_box(x, t, start_node)\n\u001b[1;32m---> 10\u001b[0m     end_box \u001b[38;5;241m=\u001b[39m fun(start_box)\n\u001b[0;32m     11\u001b[0m     \u001b[38;5;28;01mif\u001b[39;00m isbox(end_box) \u001b[38;5;129;01mand\u001b[39;00m end_box\u001b[38;5;241m.\u001b[39m_trace \u001b[38;5;241m==\u001b[39m start_box\u001b[38;5;241m.\u001b[39m_trace:\n\u001b[0;32m     12\u001b[0m         \u001b[38;5;28;01mreturn\u001b[39;00m end_box\u001b[38;5;241m.\u001b[39m_value, end_box\u001b[38;5;241m.\u001b[39m_node\n",
      "File \u001b[1;32m~\\.conda\\envs\\Quantum\\Lib\\site-packages\\autograd\\wrap_util.py:15\u001b[0m, in \u001b[0;36munary_to_nary.<locals>.nary_operator.<locals>.nary_f.<locals>.unary_f\u001b[1;34m(x)\u001b[0m\n\u001b[0;32m     13\u001b[0m \u001b[38;5;28;01melse\u001b[39;00m:\n\u001b[0;32m     14\u001b[0m     subargs \u001b[38;5;241m=\u001b[39m subvals(args, \u001b[38;5;28mzip\u001b[39m(argnum, x))\n\u001b[1;32m---> 15\u001b[0m \u001b[38;5;28;01mreturn\u001b[39;00m fun(\u001b[38;5;241m*\u001b[39msubargs, \u001b[38;5;241m*\u001b[39m\u001b[38;5;241m*\u001b[39mkwargs)\n",
      "Cell \u001b[1;32mIn[37], line 2\u001b[0m, in \u001b[0;36mcost\u001b[1;34m(weights, X, Y)\u001b[0m\n\u001b[0;32m      1\u001b[0m \u001b[38;5;28;01mdef\u001b[39;00m \u001b[38;5;21mcost\u001b[39m(weights, X, Y):\n\u001b[1;32m----> 2\u001b[0m     predictions \u001b[38;5;241m=\u001b[39m circuit(X, weights)\n\u001b[0;32m      4\u001b[0m     \u001b[38;5;66;03m# Sigmoid activation to convert to probabilities\u001b[39;00m\n\u001b[0;32m      5\u001b[0m     predictions \u001b[38;5;241m=\u001b[39m \u001b[38;5;241m1\u001b[39m \u001b[38;5;241m/\u001b[39m (\u001b[38;5;241m1\u001b[39m \u001b[38;5;241m+\u001b[39m np\u001b[38;5;241m.\u001b[39mexp(\u001b[38;5;241m-\u001b[39mpredictions,requires_grad \u001b[38;5;241m=\u001b[39m \u001b[38;5;28;01mTrue\u001b[39;00m))\n",
      "File \u001b[1;32m~\\.conda\\envs\\Quantum\\Lib\\site-packages\\pennylane\\workflow\\qnode.py:1020\u001b[0m, in \u001b[0;36mQNode.__call__\u001b[1;34m(self, *args, **kwargs)\u001b[0m\n\u001b[0;32m   1018\u001b[0m \u001b[38;5;28;01mif\u001b[39;00m qml\u001b[38;5;241m.\u001b[39mcapture\u001b[38;5;241m.\u001b[39menabled():\n\u001b[0;32m   1019\u001b[0m     \u001b[38;5;28;01mreturn\u001b[39;00m qml\u001b[38;5;241m.\u001b[39mcapture\u001b[38;5;241m.\u001b[39mqnode_call(\u001b[38;5;28mself\u001b[39m, \u001b[38;5;241m*\u001b[39margs, \u001b[38;5;241m*\u001b[39m\u001b[38;5;241m*\u001b[39mkwargs)\n\u001b[1;32m-> 1020\u001b[0m \u001b[38;5;28;01mreturn\u001b[39;00m \u001b[38;5;28mself\u001b[39m\u001b[38;5;241m.\u001b[39m_impl_call(\u001b[38;5;241m*\u001b[39margs, \u001b[38;5;241m*\u001b[39m\u001b[38;5;241m*\u001b[39mkwargs)\n",
      "File \u001b[1;32m~\\.conda\\envs\\Quantum\\Lib\\site-packages\\pennylane\\workflow\\qnode.py:1008\u001b[0m, in \u001b[0;36mQNode._impl_call\u001b[1;34m(self, *args, **kwargs)\u001b[0m\n\u001b[0;32m   1005\u001b[0m \u001b[38;5;28mself\u001b[39m\u001b[38;5;241m.\u001b[39m_update_gradient_fn(shots\u001b[38;5;241m=\u001b[39moverride_shots, tape\u001b[38;5;241m=\u001b[39m\u001b[38;5;28mself\u001b[39m\u001b[38;5;241m.\u001b[39m_tape)\n\u001b[0;32m   1007\u001b[0m \u001b[38;5;28;01mtry\u001b[39;00m:\n\u001b[1;32m-> 1008\u001b[0m     res \u001b[38;5;241m=\u001b[39m \u001b[38;5;28mself\u001b[39m\u001b[38;5;241m.\u001b[39m_execution_component(args, kwargs, override_shots\u001b[38;5;241m=\u001b[39moverride_shots)\n\u001b[0;32m   1009\u001b[0m \u001b[38;5;28;01mfinally\u001b[39;00m:\n\u001b[0;32m   1010\u001b[0m     \u001b[38;5;28;01mif\u001b[39;00m old_interface \u001b[38;5;241m==\u001b[39m \u001b[38;5;124m\"\u001b[39m\u001b[38;5;124mauto\u001b[39m\u001b[38;5;124m\"\u001b[39m:\n",
      "File \u001b[1;32m~\\.conda\\envs\\Quantum\\Lib\\site-packages\\pennylane\\workflow\\qnode.py:957\u001b[0m, in \u001b[0;36mQNode._execution_component\u001b[1;34m(self, args, kwargs, override_shots)\u001b[0m\n\u001b[0;32m    951\u001b[0m     warnings\u001b[38;5;241m.\u001b[39mfilterwarnings(\n\u001b[0;32m    952\u001b[0m         action\u001b[38;5;241m=\u001b[39m\u001b[38;5;124m\"\u001b[39m\u001b[38;5;124mignore\u001b[39m\u001b[38;5;124m\"\u001b[39m,\n\u001b[0;32m    953\u001b[0m         message\u001b[38;5;241m=\u001b[39m\u001b[38;5;124mr\u001b[39m\u001b[38;5;124m\"\u001b[39m\u001b[38;5;124m.*argument is deprecated and will be removed in version 0.39.*\u001b[39m\u001b[38;5;124m\"\u001b[39m,\n\u001b[0;32m    954\u001b[0m         category\u001b[38;5;241m=\u001b[39mqml\u001b[38;5;241m.\u001b[39mPennyLaneDeprecationWarning,\n\u001b[0;32m    955\u001b[0m     )\n\u001b[0;32m    956\u001b[0m     \u001b[38;5;66;03m# pylint: disable=unexpected-keyword-arg\u001b[39;00m\n\u001b[1;32m--> 957\u001b[0m     res \u001b[38;5;241m=\u001b[39m qml\u001b[38;5;241m.\u001b[39mexecute(\n\u001b[0;32m    958\u001b[0m         (\u001b[38;5;28mself\u001b[39m\u001b[38;5;241m.\u001b[39m_tape,),\n\u001b[0;32m    959\u001b[0m         device\u001b[38;5;241m=\u001b[39m\u001b[38;5;28mself\u001b[39m\u001b[38;5;241m.\u001b[39mdevice,\n\u001b[0;32m    960\u001b[0m         gradient_fn\u001b[38;5;241m=\u001b[39m\u001b[38;5;28mself\u001b[39m\u001b[38;5;241m.\u001b[39mgradient_fn,\n\u001b[0;32m    961\u001b[0m         interface\u001b[38;5;241m=\u001b[39m\u001b[38;5;28mself\u001b[39m\u001b[38;5;241m.\u001b[39minterface,\n\u001b[0;32m    962\u001b[0m         transform_program\u001b[38;5;241m=\u001b[39mfull_transform_program,\n\u001b[0;32m    963\u001b[0m         inner_transform\u001b[38;5;241m=\u001b[39minner_transform_program,\n\u001b[0;32m    964\u001b[0m         config\u001b[38;5;241m=\u001b[39mconfig,\n\u001b[0;32m    965\u001b[0m         gradient_kwargs\u001b[38;5;241m=\u001b[39m\u001b[38;5;28mself\u001b[39m\u001b[38;5;241m.\u001b[39mgradient_kwargs,\n\u001b[0;32m    966\u001b[0m         override_shots\u001b[38;5;241m=\u001b[39moverride_shots,\n\u001b[0;32m    967\u001b[0m         \u001b[38;5;241m*\u001b[39m\u001b[38;5;241m*\u001b[39mexecute_kwargs,\n\u001b[0;32m    968\u001b[0m     )\n\u001b[0;32m    969\u001b[0m res \u001b[38;5;241m=\u001b[39m res[\u001b[38;5;241m0\u001b[39m]\n\u001b[0;32m    971\u001b[0m \u001b[38;5;66;03m# convert result to the interface in case the qfunc has no parameters\u001b[39;00m\n",
      "File \u001b[1;32m~\\.conda\\envs\\Quantum\\Lib\\site-packages\\pennylane\\workflow\\execution.py:660\u001b[0m, in \u001b[0;36mexecute\u001b[1;34m(tapes, device, gradient_fn, interface, transform_program, inner_transform, config, grad_on_execution, gradient_kwargs, cache, cachesize, max_diff, override_shots, expand_fn, max_expansion, device_batch_transform, device_vjp, mcm_config)\u001b[0m\n\u001b[0;32m    658\u001b[0m \u001b[38;5;66;03m# Exiting early if we do not need to deal with an interface boundary\u001b[39;00m\n\u001b[0;32m    659\u001b[0m \u001b[38;5;28;01mif\u001b[39;00m no_interface_boundary_required:\n\u001b[1;32m--> 660\u001b[0m     results \u001b[38;5;241m=\u001b[39m inner_execute(tapes)\n\u001b[0;32m    661\u001b[0m     \u001b[38;5;28;01mreturn\u001b[39;00m post_processing(results)\n\u001b[0;32m    663\u001b[0m \u001b[38;5;28;01mif\u001b[39;00m (\n\u001b[0;32m    664\u001b[0m     device_vjp\n\u001b[0;32m    665\u001b[0m     \u001b[38;5;129;01mand\u001b[39;00m \u001b[38;5;28mgetattr\u001b[39m(device, \u001b[38;5;124m\"\u001b[39m\u001b[38;5;124mshort_name\u001b[39m\u001b[38;5;124m\"\u001b[39m, \u001b[38;5;124m\"\u001b[39m\u001b[38;5;124m\"\u001b[39m) \u001b[38;5;129;01min\u001b[39;00m (\u001b[38;5;124m\"\u001b[39m\u001b[38;5;124mlightning.gpu\u001b[39m\u001b[38;5;124m\"\u001b[39m, \u001b[38;5;124m\"\u001b[39m\u001b[38;5;124mlightning.kokkos\u001b[39m\u001b[38;5;124m\"\u001b[39m)\n\u001b[0;32m    666\u001b[0m     \u001b[38;5;129;01mand\u001b[39;00m interface \u001b[38;5;129;01min\u001b[39;00m jpc_interfaces\n\u001b[0;32m    667\u001b[0m ):  \u001b[38;5;66;03m# pragma: no cover\u001b[39;00m\n",
      "File \u001b[1;32m~\\.conda\\envs\\Quantum\\Lib\\site-packages\\pennylane\\workflow\\execution.py:212\u001b[0m, in \u001b[0;36m_make_inner_execute.<locals>.inner_execute\u001b[1;34m(tapes, **_)\u001b[0m\n\u001b[0;32m    209\u001b[0m transformed_tapes, transform_post_processing \u001b[38;5;241m=\u001b[39m transform_program(tapes)\n\u001b[0;32m    211\u001b[0m \u001b[38;5;28;01mif\u001b[39;00m transformed_tapes:\n\u001b[1;32m--> 212\u001b[0m     results \u001b[38;5;241m=\u001b[39m device\u001b[38;5;241m.\u001b[39mexecute(transformed_tapes, execution_config\u001b[38;5;241m=\u001b[39mexecution_config)\n\u001b[0;32m    213\u001b[0m \u001b[38;5;28;01melse\u001b[39;00m:\n\u001b[0;32m    214\u001b[0m     results \u001b[38;5;241m=\u001b[39m ()\n",
      "File \u001b[1;32m~\\.conda\\envs\\Quantum\\Lib\\site-packages\\pennylane\\devices\\modifiers\\simulator_tracking.py:30\u001b[0m, in \u001b[0;36m_track_execute.<locals>.execute\u001b[1;34m(self, circuits, execution_config)\u001b[0m\n\u001b[0;32m     28\u001b[0m \u001b[38;5;129m@wraps\u001b[39m(untracked_execute)\n\u001b[0;32m     29\u001b[0m \u001b[38;5;28;01mdef\u001b[39;00m \u001b[38;5;21mexecute\u001b[39m(\u001b[38;5;28mself\u001b[39m, circuits, execution_config\u001b[38;5;241m=\u001b[39mDefaultExecutionConfig):\n\u001b[1;32m---> 30\u001b[0m     results \u001b[38;5;241m=\u001b[39m untracked_execute(\u001b[38;5;28mself\u001b[39m, circuits, execution_config)\n\u001b[0;32m     31\u001b[0m     \u001b[38;5;28;01mif\u001b[39;00m \u001b[38;5;28misinstance\u001b[39m(circuits, QuantumScript):\n\u001b[0;32m     32\u001b[0m         batch \u001b[38;5;241m=\u001b[39m (circuits,)\n",
      "File \u001b[1;32m~\\.conda\\envs\\Quantum\\Lib\\site-packages\\pennylane\\devices\\modifiers\\single_tape_support.py:32\u001b[0m, in \u001b[0;36m_make_execute.<locals>.execute\u001b[1;34m(self, circuits, execution_config)\u001b[0m\n\u001b[0;32m     30\u001b[0m     is_single_circuit \u001b[38;5;241m=\u001b[39m \u001b[38;5;28;01mTrue\u001b[39;00m\n\u001b[0;32m     31\u001b[0m     circuits \u001b[38;5;241m=\u001b[39m (circuits,)\n\u001b[1;32m---> 32\u001b[0m results \u001b[38;5;241m=\u001b[39m batch_execute(\u001b[38;5;28mself\u001b[39m, circuits, execution_config)\n\u001b[0;32m     33\u001b[0m \u001b[38;5;28;01mreturn\u001b[39;00m results[\u001b[38;5;241m0\u001b[39m] \u001b[38;5;28;01mif\u001b[39;00m is_single_circuit \u001b[38;5;28;01melse\u001b[39;00m results\n",
      "File \u001b[1;32m~\\.conda\\envs\\Quantum\\Lib\\site-packages\\pennylane\\logging\\decorators.py:61\u001b[0m, in \u001b[0;36mlog_string_debug_func.<locals>.wrapper_entry\u001b[1;34m(*args, **kwargs)\u001b[0m\n\u001b[0;32m     54\u001b[0m     s_caller \u001b[38;5;241m=\u001b[39m \u001b[38;5;124m\"\u001b[39m\u001b[38;5;124m::L\u001b[39m\u001b[38;5;124m\"\u001b[39m\u001b[38;5;241m.\u001b[39mjoin(\n\u001b[0;32m     55\u001b[0m         [\u001b[38;5;28mstr\u001b[39m(i) \u001b[38;5;28;01mfor\u001b[39;00m i \u001b[38;5;129;01min\u001b[39;00m inspect\u001b[38;5;241m.\u001b[39mgetouterframes(inspect\u001b[38;5;241m.\u001b[39mcurrentframe(), \u001b[38;5;241m2\u001b[39m)[\u001b[38;5;241m1\u001b[39m][\u001b[38;5;241m1\u001b[39m:\u001b[38;5;241m3\u001b[39m]]\n\u001b[0;32m     56\u001b[0m     )\n\u001b[0;32m     57\u001b[0m     lgr\u001b[38;5;241m.\u001b[39mdebug(\n\u001b[0;32m     58\u001b[0m         \u001b[38;5;124mf\u001b[39m\u001b[38;5;124m\"\u001b[39m\u001b[38;5;124mCalling \u001b[39m\u001b[38;5;132;01m{\u001b[39;00mf_string\u001b[38;5;132;01m}\u001b[39;00m\u001b[38;5;124m from \u001b[39m\u001b[38;5;132;01m{\u001b[39;00ms_caller\u001b[38;5;132;01m}\u001b[39;00m\u001b[38;5;124m\"\u001b[39m,\n\u001b[0;32m     59\u001b[0m         \u001b[38;5;241m*\u001b[39m\u001b[38;5;241m*\u001b[39m_debug_log_kwargs,\n\u001b[0;32m     60\u001b[0m     )\n\u001b[1;32m---> 61\u001b[0m \u001b[38;5;28;01mreturn\u001b[39;00m func(\u001b[38;5;241m*\u001b[39margs, \u001b[38;5;241m*\u001b[39m\u001b[38;5;241m*\u001b[39mkwargs)\n",
      "File \u001b[1;32m~\\.conda\\envs\\Quantum\\Lib\\site-packages\\pennylane\\devices\\default_qubit.py:630\u001b[0m, in \u001b[0;36mDefaultQubit.execute\u001b[1;34m(self, circuits, execution_config)\u001b[0m\n\u001b[0;32m    627\u001b[0m prng_keys \u001b[38;5;241m=\u001b[39m [\u001b[38;5;28mself\u001b[39m\u001b[38;5;241m.\u001b[39mget_prng_keys()[\u001b[38;5;241m0\u001b[39m] \u001b[38;5;28;01mfor\u001b[39;00m _ \u001b[38;5;129;01min\u001b[39;00m \u001b[38;5;28mrange\u001b[39m(\u001b[38;5;28mlen\u001b[39m(circuits))]\n\u001b[0;32m    629\u001b[0m \u001b[38;5;28;01mif\u001b[39;00m max_workers \u001b[38;5;129;01mis\u001b[39;00m \u001b[38;5;28;01mNone\u001b[39;00m:\n\u001b[1;32m--> 630\u001b[0m     \u001b[38;5;28;01mreturn\u001b[39;00m \u001b[38;5;28mtuple\u001b[39m(\n\u001b[0;32m    631\u001b[0m         _simulate_wrapper(\n\u001b[0;32m    632\u001b[0m             c,\n\u001b[0;32m    633\u001b[0m             {\n\u001b[0;32m    634\u001b[0m                 \u001b[38;5;124m\"\u001b[39m\u001b[38;5;124mrng\u001b[39m\u001b[38;5;124m\"\u001b[39m: \u001b[38;5;28mself\u001b[39m\u001b[38;5;241m.\u001b[39m_rng,\n\u001b[0;32m    635\u001b[0m                 \u001b[38;5;124m\"\u001b[39m\u001b[38;5;124mdebugger\u001b[39m\u001b[38;5;124m\"\u001b[39m: \u001b[38;5;28mself\u001b[39m\u001b[38;5;241m.\u001b[39m_debugger,\n\u001b[0;32m    636\u001b[0m                 \u001b[38;5;124m\"\u001b[39m\u001b[38;5;124minterface\u001b[39m\u001b[38;5;124m\"\u001b[39m: interface,\n\u001b[0;32m    637\u001b[0m                 \u001b[38;5;124m\"\u001b[39m\u001b[38;5;124mstate_cache\u001b[39m\u001b[38;5;124m\"\u001b[39m: \u001b[38;5;28mself\u001b[39m\u001b[38;5;241m.\u001b[39m_state_cache,\n\u001b[0;32m    638\u001b[0m                 \u001b[38;5;124m\"\u001b[39m\u001b[38;5;124mprng_key\u001b[39m\u001b[38;5;124m\"\u001b[39m: _key,\n\u001b[0;32m    639\u001b[0m                 \u001b[38;5;124m\"\u001b[39m\u001b[38;5;124mmcm_method\u001b[39m\u001b[38;5;124m\"\u001b[39m: execution_config\u001b[38;5;241m.\u001b[39mmcm_config\u001b[38;5;241m.\u001b[39mmcm_method,\n\u001b[0;32m    640\u001b[0m                 \u001b[38;5;124m\"\u001b[39m\u001b[38;5;124mpostselect_mode\u001b[39m\u001b[38;5;124m\"\u001b[39m: execution_config\u001b[38;5;241m.\u001b[39mmcm_config\u001b[38;5;241m.\u001b[39mpostselect_mode,\n\u001b[0;32m    641\u001b[0m             },\n\u001b[0;32m    642\u001b[0m         )\n\u001b[0;32m    643\u001b[0m         \u001b[38;5;28;01mfor\u001b[39;00m c, _key \u001b[38;5;129;01min\u001b[39;00m \u001b[38;5;28mzip\u001b[39m(circuits, prng_keys)\n\u001b[0;32m    644\u001b[0m     )\n\u001b[0;32m    646\u001b[0m vanilla_circuits \u001b[38;5;241m=\u001b[39m convert_to_numpy_parameters(circuits)[\u001b[38;5;241m0\u001b[39m]\n\u001b[0;32m    647\u001b[0m seeds \u001b[38;5;241m=\u001b[39m \u001b[38;5;28mself\u001b[39m\u001b[38;5;241m.\u001b[39m_rng\u001b[38;5;241m.\u001b[39mintegers(\u001b[38;5;241m2\u001b[39m\u001b[38;5;241m*\u001b[39m\u001b[38;5;241m*\u001b[39m\u001b[38;5;241m31\u001b[39m \u001b[38;5;241m-\u001b[39m \u001b[38;5;241m1\u001b[39m, size\u001b[38;5;241m=\u001b[39m\u001b[38;5;28mlen\u001b[39m(vanilla_circuits))\n",
      "File \u001b[1;32m~\\.conda\\envs\\Quantum\\Lib\\site-packages\\pennylane\\devices\\default_qubit.py:631\u001b[0m, in \u001b[0;36m<genexpr>\u001b[1;34m(.0)\u001b[0m\n\u001b[0;32m    627\u001b[0m prng_keys \u001b[38;5;241m=\u001b[39m [\u001b[38;5;28mself\u001b[39m\u001b[38;5;241m.\u001b[39mget_prng_keys()[\u001b[38;5;241m0\u001b[39m] \u001b[38;5;28;01mfor\u001b[39;00m _ \u001b[38;5;129;01min\u001b[39;00m \u001b[38;5;28mrange\u001b[39m(\u001b[38;5;28mlen\u001b[39m(circuits))]\n\u001b[0;32m    629\u001b[0m \u001b[38;5;28;01mif\u001b[39;00m max_workers \u001b[38;5;129;01mis\u001b[39;00m \u001b[38;5;28;01mNone\u001b[39;00m:\n\u001b[0;32m    630\u001b[0m     \u001b[38;5;28;01mreturn\u001b[39;00m \u001b[38;5;28mtuple\u001b[39m(\n\u001b[1;32m--> 631\u001b[0m         _simulate_wrapper(\n\u001b[0;32m    632\u001b[0m             c,\n\u001b[0;32m    633\u001b[0m             {\n\u001b[0;32m    634\u001b[0m                 \u001b[38;5;124m\"\u001b[39m\u001b[38;5;124mrng\u001b[39m\u001b[38;5;124m\"\u001b[39m: \u001b[38;5;28mself\u001b[39m\u001b[38;5;241m.\u001b[39m_rng,\n\u001b[0;32m    635\u001b[0m                 \u001b[38;5;124m\"\u001b[39m\u001b[38;5;124mdebugger\u001b[39m\u001b[38;5;124m\"\u001b[39m: \u001b[38;5;28mself\u001b[39m\u001b[38;5;241m.\u001b[39m_debugger,\n\u001b[0;32m    636\u001b[0m                 \u001b[38;5;124m\"\u001b[39m\u001b[38;5;124minterface\u001b[39m\u001b[38;5;124m\"\u001b[39m: interface,\n\u001b[0;32m    637\u001b[0m                 \u001b[38;5;124m\"\u001b[39m\u001b[38;5;124mstate_cache\u001b[39m\u001b[38;5;124m\"\u001b[39m: \u001b[38;5;28mself\u001b[39m\u001b[38;5;241m.\u001b[39m_state_cache,\n\u001b[0;32m    638\u001b[0m                 \u001b[38;5;124m\"\u001b[39m\u001b[38;5;124mprng_key\u001b[39m\u001b[38;5;124m\"\u001b[39m: _key,\n\u001b[0;32m    639\u001b[0m                 \u001b[38;5;124m\"\u001b[39m\u001b[38;5;124mmcm_method\u001b[39m\u001b[38;5;124m\"\u001b[39m: execution_config\u001b[38;5;241m.\u001b[39mmcm_config\u001b[38;5;241m.\u001b[39mmcm_method,\n\u001b[0;32m    640\u001b[0m                 \u001b[38;5;124m\"\u001b[39m\u001b[38;5;124mpostselect_mode\u001b[39m\u001b[38;5;124m\"\u001b[39m: execution_config\u001b[38;5;241m.\u001b[39mmcm_config\u001b[38;5;241m.\u001b[39mpostselect_mode,\n\u001b[0;32m    641\u001b[0m             },\n\u001b[0;32m    642\u001b[0m         )\n\u001b[0;32m    643\u001b[0m         \u001b[38;5;28;01mfor\u001b[39;00m c, _key \u001b[38;5;129;01min\u001b[39;00m \u001b[38;5;28mzip\u001b[39m(circuits, prng_keys)\n\u001b[0;32m    644\u001b[0m     )\n\u001b[0;32m    646\u001b[0m vanilla_circuits \u001b[38;5;241m=\u001b[39m convert_to_numpy_parameters(circuits)[\u001b[38;5;241m0\u001b[39m]\n\u001b[0;32m    647\u001b[0m seeds \u001b[38;5;241m=\u001b[39m \u001b[38;5;28mself\u001b[39m\u001b[38;5;241m.\u001b[39m_rng\u001b[38;5;241m.\u001b[39mintegers(\u001b[38;5;241m2\u001b[39m\u001b[38;5;241m*\u001b[39m\u001b[38;5;241m*\u001b[39m\u001b[38;5;241m31\u001b[39m \u001b[38;5;241m-\u001b[39m \u001b[38;5;241m1\u001b[39m, size\u001b[38;5;241m=\u001b[39m\u001b[38;5;28mlen\u001b[39m(vanilla_circuits))\n",
      "File \u001b[1;32m~\\.conda\\envs\\Quantum\\Lib\\site-packages\\pennylane\\devices\\default_qubit.py:896\u001b[0m, in \u001b[0;36m_simulate_wrapper\u001b[1;34m(circuit, kwargs)\u001b[0m\n\u001b[0;32m    895\u001b[0m \u001b[38;5;28;01mdef\u001b[39;00m \u001b[38;5;21m_simulate_wrapper\u001b[39m(circuit, kwargs):\n\u001b[1;32m--> 896\u001b[0m     \u001b[38;5;28;01mreturn\u001b[39;00m simulate(circuit, \u001b[38;5;241m*\u001b[39m\u001b[38;5;241m*\u001b[39mkwargs)\n",
      "File \u001b[1;32m~\\.conda\\envs\\Quantum\\Lib\\site-packages\\pennylane\\logging\\decorators.py:61\u001b[0m, in \u001b[0;36mlog_string_debug_func.<locals>.wrapper_entry\u001b[1;34m(*args, **kwargs)\u001b[0m\n\u001b[0;32m     54\u001b[0m     s_caller \u001b[38;5;241m=\u001b[39m \u001b[38;5;124m\"\u001b[39m\u001b[38;5;124m::L\u001b[39m\u001b[38;5;124m\"\u001b[39m\u001b[38;5;241m.\u001b[39mjoin(\n\u001b[0;32m     55\u001b[0m         [\u001b[38;5;28mstr\u001b[39m(i) \u001b[38;5;28;01mfor\u001b[39;00m i \u001b[38;5;129;01min\u001b[39;00m inspect\u001b[38;5;241m.\u001b[39mgetouterframes(inspect\u001b[38;5;241m.\u001b[39mcurrentframe(), \u001b[38;5;241m2\u001b[39m)[\u001b[38;5;241m1\u001b[39m][\u001b[38;5;241m1\u001b[39m:\u001b[38;5;241m3\u001b[39m]]\n\u001b[0;32m     56\u001b[0m     )\n\u001b[0;32m     57\u001b[0m     lgr\u001b[38;5;241m.\u001b[39mdebug(\n\u001b[0;32m     58\u001b[0m         \u001b[38;5;124mf\u001b[39m\u001b[38;5;124m\"\u001b[39m\u001b[38;5;124mCalling \u001b[39m\u001b[38;5;132;01m{\u001b[39;00mf_string\u001b[38;5;132;01m}\u001b[39;00m\u001b[38;5;124m from \u001b[39m\u001b[38;5;132;01m{\u001b[39;00ms_caller\u001b[38;5;132;01m}\u001b[39;00m\u001b[38;5;124m\"\u001b[39m,\n\u001b[0;32m     59\u001b[0m         \u001b[38;5;241m*\u001b[39m\u001b[38;5;241m*\u001b[39m_debug_log_kwargs,\n\u001b[0;32m     60\u001b[0m     )\n\u001b[1;32m---> 61\u001b[0m \u001b[38;5;28;01mreturn\u001b[39;00m func(\u001b[38;5;241m*\u001b[39margs, \u001b[38;5;241m*\u001b[39m\u001b[38;5;241m*\u001b[39mkwargs)\n",
      "File \u001b[1;32m~\\.conda\\envs\\Quantum\\Lib\\site-packages\\pennylane\\devices\\qubit\\simulate.py:379\u001b[0m, in \u001b[0;36msimulate\u001b[1;34m(circuit, debugger, state_cache, **execution_kwargs)\u001b[0m\n\u001b[0;32m    376\u001b[0m     \u001b[38;5;28;01mreturn\u001b[39;00m \u001b[38;5;28mtuple\u001b[39m(results)\n\u001b[0;32m    378\u001b[0m ops_key, meas_key \u001b[38;5;241m=\u001b[39m jax_random_split(prng_key)\n\u001b[1;32m--> 379\u001b[0m state, is_state_batched \u001b[38;5;241m=\u001b[39m get_final_state(\n\u001b[0;32m    380\u001b[0m     circuit, debugger\u001b[38;5;241m=\u001b[39mdebugger, prng_key\u001b[38;5;241m=\u001b[39mops_key, \u001b[38;5;241m*\u001b[39m\u001b[38;5;241m*\u001b[39mexecution_kwargs\n\u001b[0;32m    381\u001b[0m )\n\u001b[0;32m    382\u001b[0m \u001b[38;5;28;01mif\u001b[39;00m state_cache \u001b[38;5;129;01mis\u001b[39;00m \u001b[38;5;129;01mnot\u001b[39;00m \u001b[38;5;28;01mNone\u001b[39;00m:\n\u001b[0;32m    383\u001b[0m     state_cache[circuit\u001b[38;5;241m.\u001b[39mhash] \u001b[38;5;241m=\u001b[39m state\n",
      "File \u001b[1;32m~\\.conda\\envs\\Quantum\\Lib\\site-packages\\pennylane\\logging\\decorators.py:61\u001b[0m, in \u001b[0;36mlog_string_debug_func.<locals>.wrapper_entry\u001b[1;34m(*args, **kwargs)\u001b[0m\n\u001b[0;32m     54\u001b[0m     s_caller \u001b[38;5;241m=\u001b[39m \u001b[38;5;124m\"\u001b[39m\u001b[38;5;124m::L\u001b[39m\u001b[38;5;124m\"\u001b[39m\u001b[38;5;241m.\u001b[39mjoin(\n\u001b[0;32m     55\u001b[0m         [\u001b[38;5;28mstr\u001b[39m(i) \u001b[38;5;28;01mfor\u001b[39;00m i \u001b[38;5;129;01min\u001b[39;00m inspect\u001b[38;5;241m.\u001b[39mgetouterframes(inspect\u001b[38;5;241m.\u001b[39mcurrentframe(), \u001b[38;5;241m2\u001b[39m)[\u001b[38;5;241m1\u001b[39m][\u001b[38;5;241m1\u001b[39m:\u001b[38;5;241m3\u001b[39m]]\n\u001b[0;32m     56\u001b[0m     )\n\u001b[0;32m     57\u001b[0m     lgr\u001b[38;5;241m.\u001b[39mdebug(\n\u001b[0;32m     58\u001b[0m         \u001b[38;5;124mf\u001b[39m\u001b[38;5;124m\"\u001b[39m\u001b[38;5;124mCalling \u001b[39m\u001b[38;5;132;01m{\u001b[39;00mf_string\u001b[38;5;132;01m}\u001b[39;00m\u001b[38;5;124m from \u001b[39m\u001b[38;5;132;01m{\u001b[39;00ms_caller\u001b[38;5;132;01m}\u001b[39;00m\u001b[38;5;124m\"\u001b[39m,\n\u001b[0;32m     59\u001b[0m         \u001b[38;5;241m*\u001b[39m\u001b[38;5;241m*\u001b[39m_debug_log_kwargs,\n\u001b[0;32m     60\u001b[0m     )\n\u001b[1;32m---> 61\u001b[0m \u001b[38;5;28;01mreturn\u001b[39;00m func(\u001b[38;5;241m*\u001b[39margs, \u001b[38;5;241m*\u001b[39m\u001b[38;5;241m*\u001b[39mkwargs)\n",
      "File \u001b[1;32m~\\.conda\\envs\\Quantum\\Lib\\site-packages\\pennylane\\devices\\qubit\\simulate.py:208\u001b[0m, in \u001b[0;36mget_final_state\u001b[1;34m(circuit, debugger, **execution_kwargs)\u001b[0m\n\u001b[0;32m    206\u001b[0m \u001b[38;5;28;01mif\u001b[39;00m \u001b[38;5;28misinstance\u001b[39m(op, MidMeasureMP):\n\u001b[0;32m    207\u001b[0m     prng_key, key \u001b[38;5;241m=\u001b[39m jax_random_split(prng_key)\n\u001b[1;32m--> 208\u001b[0m state \u001b[38;5;241m=\u001b[39m apply_operation(\n\u001b[0;32m    209\u001b[0m     op,\n\u001b[0;32m    210\u001b[0m     state,\n\u001b[0;32m    211\u001b[0m     is_state_batched\u001b[38;5;241m=\u001b[39mis_state_batched,\n\u001b[0;32m    212\u001b[0m     debugger\u001b[38;5;241m=\u001b[39mdebugger,\n\u001b[0;32m    213\u001b[0m     prng_key\u001b[38;5;241m=\u001b[39mkey,\n\u001b[0;32m    214\u001b[0m     tape_shots\u001b[38;5;241m=\u001b[39mcircuit\u001b[38;5;241m.\u001b[39mshots,\n\u001b[0;32m    215\u001b[0m     \u001b[38;5;241m*\u001b[39m\u001b[38;5;241m*\u001b[39mexecution_kwargs,\n\u001b[0;32m    216\u001b[0m )\n\u001b[0;32m    217\u001b[0m \u001b[38;5;66;03m# Handle postselection on mid-circuit measurements\u001b[39;00m\n\u001b[0;32m    218\u001b[0m \u001b[38;5;28;01mif\u001b[39;00m \u001b[38;5;28misinstance\u001b[39m(op, qml\u001b[38;5;241m.\u001b[39mProjector):\n",
      "File \u001b[1;32m~\\.conda\\envs\\Quantum\\Lib\\functools.py:909\u001b[0m, in \u001b[0;36msingledispatch.<locals>.wrapper\u001b[1;34m(*args, **kw)\u001b[0m\n\u001b[0;32m    905\u001b[0m \u001b[38;5;28;01mif\u001b[39;00m \u001b[38;5;129;01mnot\u001b[39;00m args:\n\u001b[0;32m    906\u001b[0m     \u001b[38;5;28;01mraise\u001b[39;00m \u001b[38;5;167;01mTypeError\u001b[39;00m(\u001b[38;5;124mf\u001b[39m\u001b[38;5;124m'\u001b[39m\u001b[38;5;132;01m{\u001b[39;00mfuncname\u001b[38;5;132;01m}\u001b[39;00m\u001b[38;5;124m requires at least \u001b[39m\u001b[38;5;124m'\u001b[39m\n\u001b[0;32m    907\u001b[0m                     \u001b[38;5;124m'\u001b[39m\u001b[38;5;124m1 positional argument\u001b[39m\u001b[38;5;124m'\u001b[39m)\n\u001b[1;32m--> 909\u001b[0m \u001b[38;5;28;01mreturn\u001b[39;00m dispatch(args[\u001b[38;5;241m0\u001b[39m]\u001b[38;5;241m.\u001b[39m\u001b[38;5;18m__class__\u001b[39m)(\u001b[38;5;241m*\u001b[39margs, \u001b[38;5;241m*\u001b[39m\u001b[38;5;241m*\u001b[39mkw)\n",
      "File \u001b[1;32m~\\.conda\\envs\\Quantum\\Lib\\site-packages\\pennylane\\devices\\qubit\\apply_operation.py:493\u001b[0m, in \u001b[0;36mapply_cnot\u001b[1;34m(op, state, is_state_batched, debugger, **_)\u001b[0m\n\u001b[0;32m    490\u001b[0m sl_1 \u001b[38;5;241m=\u001b[39m _get_slice(\u001b[38;5;241m1\u001b[39m, control_axes, n_dim)\n\u001b[0;32m    492\u001b[0m state_x \u001b[38;5;241m=\u001b[39m math\u001b[38;5;241m.\u001b[39mroll(state[sl_1], \u001b[38;5;241m1\u001b[39m, target_axes)\n\u001b[1;32m--> 493\u001b[0m \u001b[38;5;28;01mreturn\u001b[39;00m math\u001b[38;5;241m.\u001b[39mstack([state[sl_0], state_x], axis\u001b[38;5;241m=\u001b[39mcontrol_axes)\n",
      "File \u001b[1;32m~\\.conda\\envs\\Quantum\\Lib\\site-packages\\autograd\\tracer.py:46\u001b[0m, in \u001b[0;36mprimitive.<locals>.f_wrapped\u001b[1;34m(*args, **kwargs)\u001b[0m\n\u001b[0;32m     44\u001b[0m     ans \u001b[38;5;241m=\u001b[39m f_wrapped(\u001b[38;5;241m*\u001b[39margvals, \u001b[38;5;241m*\u001b[39m\u001b[38;5;241m*\u001b[39mkwargs)\n\u001b[0;32m     45\u001b[0m     node \u001b[38;5;241m=\u001b[39m node_constructor(ans, f_wrapped, argvals, kwargs, argnums, parents)\n\u001b[1;32m---> 46\u001b[0m     \u001b[38;5;28;01mreturn\u001b[39;00m new_box(ans, trace, node)\n\u001b[0;32m     47\u001b[0m \u001b[38;5;28;01melse\u001b[39;00m:\n\u001b[0;32m     48\u001b[0m     \u001b[38;5;28;01mreturn\u001b[39;00m f_raw(\u001b[38;5;241m*\u001b[39margs, \u001b[38;5;241m*\u001b[39m\u001b[38;5;241m*\u001b[39mkwargs)\n",
      "File \u001b[1;32m~\\.conda\\envs\\Quantum\\Lib\\site-packages\\autograd\\tracer.py:116\u001b[0m, in \u001b[0;36mnew_box\u001b[1;34m(value, trace, node)\u001b[0m\n\u001b[0;32m    113\u001b[0m         Box\u001b[38;5;241m.\u001b[39mtype_mappings[\u001b[38;5;28mcls\u001b[39m] \u001b[38;5;241m=\u001b[39m \u001b[38;5;28mcls\u001b[39m\n\u001b[0;32m    115\u001b[0m box_type_mappings \u001b[38;5;241m=\u001b[39m Box\u001b[38;5;241m.\u001b[39mtype_mappings\n\u001b[1;32m--> 116\u001b[0m \u001b[38;5;28;01mdef\u001b[39;00m \u001b[38;5;21mnew_box\u001b[39m(value, trace, node):\n\u001b[0;32m    117\u001b[0m     \u001b[38;5;28;01mtry\u001b[39;00m:\n\u001b[0;32m    118\u001b[0m         \u001b[38;5;28;01mreturn\u001b[39;00m box_type_mappings[\u001b[38;5;28mtype\u001b[39m(value)](value, trace, node)\n",
      "\u001b[1;31mKeyboardInterrupt\u001b[0m: "
     ]
    }
   ],
   "source": [
    "weights = weights_init\n",
    "# bias = bias_init\n",
    "opt = AdamOptimizer(0.01)\n",
    "batch_size = 16\n",
    "# cost = []\n",
    "for it in range(4500):\n",
    "\n",
    "    # Update the weights by one optimizer step, using only a limited batch of data\n",
    "    batch_index = np.random.randint(0, len(X_train), (batch_size,))\n",
    "    # batch_index_val = np.random.randint(0, len(X_val), (batch_size,))\n",
    "    X_batch = X_train[batch_index]\n",
    "    # print(X_batch)\n",
    "    Y_batch = y_train[batch_index]\n",
    "\n",
    "    # X_val_b = X_val[ batch_index_val]\n",
    "    # Y_val_b = y_val[ batch_index_val]\n",
    "    \n",
    "    # print(Y_batch)\n",
    "    weights= opt.step(cost, weights,  X=X_batch, Y=Y_batch)\n",
    "\n",
    "    # Compute accuracy\n",
    "    predictions = [np.sign(circuit(x,  weights)) for x in X_batch]\n",
    "    # print(predictions)\n",
    "    current_cost = cost(weights,  X_batch, Y_batch)\n",
    "    # cost.append(current_cost)\n",
    "    acc = accuracy(Y_batch, predictions)\n",
    "\n",
    "    predictions = [np.sign(circuit(x,  weights)) for x in X_val_b]\n",
    "    val_acc =accuracy(Y_val_b, predictions)\n",
    "\n",
    "    if it%10 == 0:\n",
    "        print(f\"Iter: {it+1:4d} | Cost: {current_cost:0.7f} | Accuracy: {acc:0.7f} | Val: {val_acc:0.7f}\" )"
   ]
  },
  {
   "cell_type": "code",
   "execution_count": null,
   "id": "42d84243-c41f-42fa-8408-889d4d904b0a",
   "metadata": {},
   "outputs": [],
   "source": [
    "predictions = [np.sign(circuit(x,  weights)) for x in X_test]\n",
    "acc = accuracy(y_test, predictions)"
   ]
  },
  {
   "cell_type": "code",
   "execution_count": 219,
   "id": "edecc40b-1061-4b82-92eb-36913a13bfa4",
   "metadata": {},
   "outputs": [
    {
     "name": "stdout",
     "output_type": "stream",
     "text": [
      "0.6875\n"
     ]
    }
   ],
   "source": [
    "print(acc)"
   ]
  },
  {
   "cell_type": "code",
   "execution_count": 221,
   "id": "d51752f5-315b-460b-a3fd-423c0f797457",
   "metadata": {},
   "outputs": [
    {
     "name": "stdout",
     "output_type": "stream",
     "text": [
      "Accuracy: 0.83\n",
      "Classification Report:\n",
      "               precision    recall  f1-score   support\n",
      "\n",
      "          -1       0.85      0.95      0.90      2238\n",
      "           1       0.70      0.40      0.51       626\n",
      "\n",
      "    accuracy                           0.83      2864\n",
      "   macro avg       0.78      0.68      0.70      2864\n",
      "weighted avg       0.82      0.83      0.81      2864\n",
      "\n"
     ]
    }
   ],
   "source": [
    "from sklearn.linear_model import LogisticRegression\n",
    "model = LogisticRegression()\n",
    "model.fit(X_train, y_train)\n",
    "\n",
    "# Step 6: Make predictions\n",
    "y_pred = model.predict(X_test)\n",
    "\n",
    "# Step 7: Evaluate the model\n",
    "accuracy = accuracy_score(y_test, y_pred)\n",
    "report = classification_report(y_test, y_pred)\n",
    "\n",
    "print(f\"Accuracy: {accuracy:.2f}\")\n",
    "print(\"Classification Report:\\n\", report)"
   ]
  },
  {
   "cell_type": "code",
   "execution_count": 222,
   "id": "40739cb5-5af5-483c-b979-34f339de3745",
   "metadata": {},
   "outputs": [
    {
     "name": "stdout",
     "output_type": "stream",
     "text": [
      "Decision Tree Accuracy: 0.8205307262569832\n"
     ]
    }
   ],
   "source": [
    "from sklearn.tree import DecisionTreeClassifier\n",
    "dt_model = DecisionTreeClassifier(random_state=42)\n",
    "dt_model.fit(X_train, y_train)\n",
    "\n",
    "# Make predictions and evaluate\n",
    "y_pred_dt = dt_model.predict(X_test)\n",
    "print(\"Decision Tree Accuracy:\", accuracy_score(y_test, y_pred_dt))"
   ]
  }
 ],
 "metadata": {
  "kernelspec": {
   "display_name": "Python 3 (ipykernel)",
   "language": "python",
   "name": "python3"
  },
  "language_info": {
   "codemirror_mode": {
    "name": "ipython",
    "version": 3
   },
   "file_extension": ".py",
   "mimetype": "text/x-python",
   "name": "python",
   "nbconvert_exporter": "python",
   "pygments_lexer": "ipython3",
   "version": "3.11.9"
  }
 },
 "nbformat": 4,
 "nbformat_minor": 5
}
